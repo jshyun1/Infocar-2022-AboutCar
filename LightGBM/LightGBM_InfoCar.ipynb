{
 "cells": [
  {
   "cell_type": "code",
   "execution_count": 1,
   "id": "0045838b",
   "metadata": {},
   "outputs": [],
   "source": [
    "# 참고 사이트 : https://nurilee.com/2020/04/03/lightgbm-definition-parameter-tuning/\n",
    "#  https://mac-user-guide.tistory.com/79"
   ]
  },
  {
   "cell_type": "code",
   "execution_count": 2,
   "id": "4904f5fd",
   "metadata": {},
   "outputs": [],
   "source": [
    "# import libraries\n",
    "import os\n",
    "import pandas as pd\n",
    "import numpy as np\n",
    "from sklearn.preprocessing import MinMaxScaler\n",
    "import random\n",
    "import matplotlib.pyplot as plt\n",
    "%matplotlib inline\n",
    "\n",
    "from numpy.random import seed\n",
    "import tensorflow as tf\n",
    "from tensorflow import keras\n",
    "tf.compat.v1.logging.set_verbosity(tf.compat.v1.logging.ERROR)\n"
   ]
  },
  {
   "cell_type": "code",
   "execution_count": 3,
   "id": "105c26aa",
   "metadata": {},
   "outputs": [],
   "source": [
    "# conda install -c conda-forge lightgbm\n",
    "import lightgbm\n",
    "import seaborn as sns\n",
    "\n",
    "from tensorflow.keras.callbacks import EarlyStopping, ModelCheckpoint\n",
    "from tensorflow.keras import regularizers\n",
    "from sklearn import metrics\n",
    "from sklearn.model_selection import train_test_split\n",
    "from sklearn.metrics import roc_curve, auc, precision_recall_curve"
   ]
  },
  {
   "cell_type": "code",
   "execution_count": 4,
   "id": "3af8d88e",
   "metadata": {},
   "outputs": [],
   "source": [
    "# gpu 사용\n",
    "# os.environ[\"CUDA_VISIBLE_DEVICE\"]=''"
   ]
  },
  {
   "cell_type": "code",
   "execution_count": 5,
   "id": "55bbe1ea",
   "metadata": {
    "scrolled": true
   },
   "outputs": [
    {
     "name": "stdout",
     "output_type": "stream",
     "text": [
      "(463, 9)\n",
      "(459, 9)\n"
     ]
    },
    {
     "data": {
      "text/html": [
       "<div>\n",
       "<style scoped>\n",
       "    .dataframe tbody tr th:only-of-type {\n",
       "        vertical-align: middle;\n",
       "    }\n",
       "\n",
       "    .dataframe tbody tr th {\n",
       "        vertical-align: top;\n",
       "    }\n",
       "\n",
       "    .dataframe thead th {\n",
       "        text-align: right;\n",
       "    }\n",
       "</style>\n",
       "<table border=\"1\" class=\"dataframe\">\n",
       "  <thead>\n",
       "    <tr style=\"text-align: right;\">\n",
       "      <th></th>\n",
       "      <th>Unnamed: 0</th>\n",
       "      <th>srcSpeed</th>\n",
       "      <th>srcAPS</th>\n",
       "      <th>srcGyroValue</th>\n",
       "      <th>srcRPM</th>\n",
       "      <th>srcTPS</th>\n",
       "      <th>srcMAF</th>\n",
       "      <th>srcEngineLoad</th>\n",
       "      <th>Diagnose</th>\n",
       "    </tr>\n",
       "  </thead>\n",
       "  <tbody>\n",
       "    <tr>\n",
       "      <th>458</th>\n",
       "      <td>462</td>\n",
       "      <td>0.0</td>\n",
       "      <td>0.0</td>\n",
       "      <td>-1.340918</td>\n",
       "      <td>0.0</td>\n",
       "      <td>13.594771</td>\n",
       "      <td>0.0</td>\n",
       "      <td>0.0</td>\n",
       "      <td>P0171</td>\n",
       "    </tr>\n",
       "    <tr>\n",
       "      <th>202</th>\n",
       "      <td>204</td>\n",
       "      <td>0.0</td>\n",
       "      <td>0.0</td>\n",
       "      <td>0.476363</td>\n",
       "      <td>0.0</td>\n",
       "      <td>11.428571</td>\n",
       "      <td>0.0</td>\n",
       "      <td>0.0</td>\n",
       "      <td>P0171</td>\n",
       "    </tr>\n",
       "    <tr>\n",
       "      <th>204</th>\n",
       "      <td>206</td>\n",
       "      <td>0.0</td>\n",
       "      <td>0.0</td>\n",
       "      <td>-0.145657</td>\n",
       "      <td>0.0</td>\n",
       "      <td>0.000000</td>\n",
       "      <td>0.0</td>\n",
       "      <td>0.0</td>\n",
       "      <td>P0171</td>\n",
       "    </tr>\n",
       "    <tr>\n",
       "      <th>205</th>\n",
       "      <td>207</td>\n",
       "      <td>0.0</td>\n",
       "      <td>0.0</td>\n",
       "      <td>-0.272466</td>\n",
       "      <td>0.0</td>\n",
       "      <td>0.000000</td>\n",
       "      <td>0.0</td>\n",
       "      <td>0.0</td>\n",
       "      <td>P0171</td>\n",
       "    </tr>\n",
       "    <tr>\n",
       "      <th>206</th>\n",
       "      <td>208</td>\n",
       "      <td>0.0</td>\n",
       "      <td>0.0</td>\n",
       "      <td>-0.343108</td>\n",
       "      <td>0.0</td>\n",
       "      <td>10.370370</td>\n",
       "      <td>0.0</td>\n",
       "      <td>0.0</td>\n",
       "      <td>P0171</td>\n",
       "    </tr>\n",
       "  </tbody>\n",
       "</table>\n",
       "</div>"
      ],
      "text/plain": [
       "     Unnamed: 0  srcSpeed  srcAPS  srcGyroValue  srcRPM     srcTPS  srcMAF  \\\n",
       "458         462       0.0     0.0     -1.340918     0.0  13.594771     0.0   \n",
       "202         204       0.0     0.0      0.476363     0.0  11.428571     0.0   \n",
       "204         206       0.0     0.0     -0.145657     0.0   0.000000     0.0   \n",
       "205         207       0.0     0.0     -0.272466     0.0   0.000000     0.0   \n",
       "206         208       0.0     0.0     -0.343108     0.0  10.370370     0.0   \n",
       "\n",
       "     srcEngineLoad Diagnose  \n",
       "458            0.0    P0171  \n",
       "202            0.0    P0171  \n",
       "204            0.0    P0171  \n",
       "205            0.0    P0171  \n",
       "206            0.0    P0171  "
      ]
     },
     "execution_count": 5,
     "metadata": {},
     "output_type": "execute_result"
    }
   ],
   "source": [
    "src_null = pd.read_csv('./null.csv')\n",
    "src_p0171 = pd.read_csv('./p0171.csv')\n",
    "print(src_null.shape)\n",
    "print(src_p0171.shape)\n",
    "\n",
    "# null , p0171 concat\n",
    "src = pd.concat([src_null , src_p0171])\n",
    "src= src.sort_values(by=['srcEngineLoad'], axis=0,ascending=True)\n",
    "\n",
    "src.shape\n",
    "src.head(5)"
   ]
  },
  {
   "cell_type": "code",
   "execution_count": 6,
   "id": "d2996afd",
   "metadata": {},
   "outputs": [
    {
     "data": {
      "text/plain": [
       "458    P0171\n",
       "202    P0171\n",
       "204    P0171\n",
       "205    P0171\n",
       "206    P0171\n",
       "       ...  \n",
       "205     NULL\n",
       "219     NULL\n",
       "222     NULL\n",
       "396     NULL\n",
       "126     NULL\n",
       "Name: Diagnose, Length: 922, dtype: object"
      ]
     },
     "execution_count": 6,
     "metadata": {},
     "output_type": "execute_result"
    }
   ],
   "source": [
    "y_data = src.iloc[:,8]\n",
    "y_data = y_data.replace(np.NaN , 'NULL')\n",
    "y_data\n",
    "\n"
   ]
  },
  {
   "cell_type": "code",
   "execution_count": 7,
   "id": "54c7e952",
   "metadata": {},
   "outputs": [
    {
     "data": {
      "text/plain": [
       "array([0, 0, 0, 0, 0, 0, 0, 0, 0, 0, 0, 0, 0, 0, 0, 0, 0, 0, 1, 0, 0, 0,\n",
       "       0, 1, 0, 1, 0, 0, 0, 0, 0, 1, 1, 0, 0, 0, 0, 1, 0, 1, 0, 0, 1, 0,\n",
       "       1, 1, 0, 0, 0, 0, 0, 0, 0, 0, 0, 0, 0, 0, 0, 0, 0, 1, 0, 0, 0, 0,\n",
       "       0, 0, 0, 0, 0, 0, 0, 0, 0, 0, 0, 0, 0, 0, 1, 0, 0, 0, 0, 0, 0, 0,\n",
       "       0, 1, 1, 1, 0, 0, 0, 0, 0, 0, 0, 0, 1, 0, 0, 0, 0, 0, 0, 1, 0, 0,\n",
       "       0, 1, 1, 1, 1, 1, 1, 1, 1, 1, 1, 1, 1, 1, 1, 1, 1, 1, 1, 1, 1, 1,\n",
       "       1, 0, 0, 0, 0, 0, 0, 1, 0, 0, 0, 0, 0, 0, 0, 0, 0, 0, 0, 0, 1, 0,\n",
       "       0, 1, 0, 1, 0, 0, 0, 0, 0, 0, 0, 0, 0, 0, 0, 0, 0, 0, 0, 0, 0, 0,\n",
       "       0, 0, 0, 0, 1, 0, 0, 0, 0, 0, 0, 0, 0, 0, 0, 0, 0, 0, 0, 0, 0, 0,\n",
       "       0, 1, 1, 0, 1, 0, 0, 0, 1, 1, 0, 0, 0, 0, 0, 0, 1, 0, 0, 0, 0, 0,\n",
       "       0, 0, 0, 0, 0, 0, 0, 1, 0, 0, 1, 0, 0, 0, 0, 0, 1, 1, 1, 1, 1, 0,\n",
       "       0, 0, 0, 0, 0, 0, 0, 0, 0, 1, 0, 0, 0, 0, 0, 0, 0, 1, 1, 0, 1, 0,\n",
       "       0, 0, 0, 0, 0, 0, 0, 0, 0, 0, 0, 0, 0, 0, 0, 0, 0, 0, 0, 0, 0, 0,\n",
       "       0, 0, 0, 0, 1, 0, 1, 0, 0, 0, 0, 0, 0, 0, 0, 0, 0, 0, 0, 0, 1, 0,\n",
       "       0, 0, 0, 0, 0, 0, 0, 0, 0, 0, 0, 0, 0, 1, 1, 1, 0, 0, 1, 0, 0, 0,\n",
       "       1, 0, 0, 0, 0, 0, 0, 0, 0, 0, 1, 1, 0, 0, 1, 1, 0, 0, 0, 0, 0, 0,\n",
       "       0, 1, 1, 1, 0, 0, 1, 1, 0, 0, 1, 0, 1, 1, 1, 1, 1, 1, 1, 1, 1, 1,\n",
       "       1, 1, 1, 1, 1, 1, 1, 1, 1, 1, 1, 1, 1, 0, 1, 1, 1, 1, 1, 1, 1, 0,\n",
       "       1, 1, 1, 1, 0, 1, 1, 1, 1, 1, 0, 1, 0, 1, 0, 1, 0, 1, 0, 1, 1, 0,\n",
       "       1, 1, 0, 0, 0, 1, 0, 1, 1, 1, 1, 0, 1, 1, 1, 1, 1, 1, 1, 1, 0, 0,\n",
       "       1, 1, 0, 0, 0, 1, 0, 1, 1, 1, 1, 0, 1, 1, 0, 1, 1, 0, 0, 0, 1, 1,\n",
       "       0, 0, 1, 0, 1, 1, 1, 1, 0, 1, 0, 1, 1, 0, 1, 0, 1, 0, 1, 1, 1, 1,\n",
       "       1, 1, 1, 1, 1, 0, 1, 1, 1, 1, 1, 1, 0, 1, 1, 1, 0, 1, 1, 1, 1, 1,\n",
       "       0, 1, 0, 1, 1, 1, 1, 1, 1, 0, 1, 1, 1, 1, 1, 1, 0, 0, 1, 0, 1, 0,\n",
       "       0, 1, 1, 1, 1, 1, 1, 1, 1, 1, 1, 1, 1, 1, 0, 1, 1, 0, 0, 1, 0, 0,\n",
       "       0, 1, 1, 1, 0, 0, 0, 1, 1, 1, 1, 1, 1, 1, 1, 0, 1, 1, 0, 0, 0, 1,\n",
       "       0, 1, 1, 1, 1, 0, 0, 0, 0, 1, 1, 1, 1, 1, 1, 1, 1, 0, 1, 1, 1, 1,\n",
       "       1, 1, 0, 1, 1, 1, 1, 1, 1, 1, 0, 1, 1, 0, 1, 1, 1, 0, 1, 1, 1, 1,\n",
       "       0, 0, 1, 1, 1, 1, 0, 0, 0, 1, 1, 1, 1, 1, 0, 1, 1, 1, 0, 1, 1, 1,\n",
       "       1, 1, 1, 0, 1, 0, 1, 1, 1, 1, 1, 1, 0, 1, 0, 1, 0, 0, 0, 1, 0, 0,\n",
       "       1, 1, 1, 1, 1, 1, 1, 1, 1, 1, 1, 1, 1, 1, 0, 1, 1, 1, 0, 1, 1, 1,\n",
       "       1, 0, 1, 0, 0, 0, 1, 1, 1, 0, 1, 0, 1, 0, 0, 1, 0, 0, 1, 1, 1, 1,\n",
       "       1, 1, 0, 1, 1, 1, 1, 0, 0, 0, 0, 1, 1, 1, 0, 1, 0, 1, 1, 1, 0, 0,\n",
       "       1, 0, 1, 1, 1, 0, 1, 1, 0, 1, 1, 1, 1, 1, 1, 1, 1, 0, 1, 1, 0, 1,\n",
       "       0, 1, 1, 1, 0, 1, 1, 1, 0, 0, 1, 0, 0, 0, 1, 0, 0, 1, 1, 1, 1, 1,\n",
       "       0, 1, 1, 1, 0, 1, 1, 1, 0, 0, 1, 0, 0, 1, 0, 0, 1, 1, 1, 0, 0, 1,\n",
       "       0, 1, 1, 0, 1, 1, 1, 1, 0, 0, 1, 1, 1, 1, 0, 1, 0, 1, 0, 1, 1, 1,\n",
       "       1, 0, 1, 0, 1, 1, 0, 1, 1, 1, 0, 0, 1, 1, 1, 0, 0, 1, 1, 1, 1, 0,\n",
       "       0, 0, 1, 1, 1, 1, 0, 1, 1, 1, 1, 1, 1, 0, 0, 1, 0, 0, 0, 0, 1, 0,\n",
       "       1, 1, 1, 1, 1, 0, 1, 0, 0, 1, 1, 0, 0, 0, 0, 1, 1, 0, 0, 1, 0, 1,\n",
       "       0, 0, 1, 0, 1, 0, 1, 0, 0, 1, 0, 1, 1, 0, 1, 1, 1, 1, 1, 1, 1, 1,\n",
       "       1, 1, 1, 0, 0, 1, 1, 1, 0, 1, 1, 1, 1, 1, 1, 1, 1, 1, 1, 1],\n",
       "      dtype=uint8)"
      ]
     },
     "execution_count": 7,
     "metadata": {},
     "output_type": "execute_result"
    }
   ],
   "source": [
    "# NULL : 0 , P0171 : 1로 라벨링\n",
    "y_data = pd.get_dummies(y_data).values\n",
    "y_data = y_data[:,0] \n",
    "\n",
    "where_0 = np.where(y_data ==1)\n",
    "where_1 = np.where(y_data ==0)\n",
    "\n",
    "y_data[where_0] = 1\n",
    "y_data[where_1] = 0\n",
    "y_data"
   ]
  },
  {
   "cell_type": "code",
   "execution_count": 8,
   "id": "e83047fe",
   "metadata": {},
   "outputs": [
    {
     "data": {
      "text/plain": [
       "(922, 7)"
      ]
     },
     "execution_count": 8,
     "metadata": {},
     "output_type": "execute_result"
    }
   ],
   "source": [
    "\n",
    "x_data = src.iloc[:,1:8] # srcSpeed ~ srcEngineLoad\n",
    "x_data = x_data.apply(pd.to_numeric, errors='coerce')\n",
    "\n",
    "#x_data = x_data.values\n",
    "x_data\n",
    "x_data.shape\n"
   ]
  },
  {
   "cell_type": "code",
   "execution_count": 9,
   "id": "644cb09d",
   "metadata": {},
   "outputs": [],
   "source": [
    "from sklearn.model_selection import train_test_split\n",
    "trnx, tstx, trny, tsty = train_test_split(x_data, y_data, test_size=0.3, random_state=88)\n",
    "trnx, valx, trny, valy = train_test_split(trnx, trny, test_size=0.2, random_state=111)"
   ]
  },
  {
   "cell_type": "markdown",
   "id": "16028e90",
   "metadata": {},
   "source": [
    "# 데이터 정규화"
   ]
  },
  {
   "cell_type": "code",
   "execution_count": 10,
   "id": "529efda0",
   "metadata": {},
   "outputs": [],
   "source": [
    "# 학습 데이터에서만 fit_transform\n",
    "from sklearn.preprocessing import StandardScaler\n",
    "scaler = StandardScaler()\n",
    "trnx = scaler.fit_transform(trnx)\n",
    "tstx = scaler.transform(tstx)"
   ]
  },
  {
   "cell_type": "markdown",
   "id": "ffc9d94b",
   "metadata": {},
   "source": [
    "# 모델 (LGBM)"
   ]
  },
  {
   "cell_type": "code",
   "execution_count": 11,
   "id": "5b50fa91",
   "metadata": {},
   "outputs": [
    {
     "data": {
      "text/plain": [
       "\"\\ncategorical_features = [c for c, col in enumerate(src.columns) if 'P0171' in col]\\ntrain_data = lightgbm.Dataset(trnx, label=trny, categorical_feature=categorical_features)\\nval_data = lightgbm.Dataset(valx, label=valy)\\n\""
      ]
     },
     "execution_count": 11,
     "metadata": {},
     "output_type": "execute_result"
    }
   ],
   "source": [
    "'''\n",
    "categorical_features = [c for c, col in enumerate(src.columns) if 'P0171' in col]\n",
    "train_data = lightgbm.Dataset(trnx, label=trny, categorical_feature=categorical_features)\n",
    "val_data = lightgbm.Dataset(valx, label=valy)\n",
    "'''"
   ]
  },
  {
   "cell_type": "code",
   "execution_count": 12,
   "id": "e2516b63",
   "metadata": {},
   "outputs": [
    {
     "name": "stdout",
     "output_type": "stream",
     "text": [
      "[1]\tvalid_0's binary_logloss: 0.694895\n",
      "[2]\tvalid_0's binary_logloss: 0.696813\n",
      "[3]\tvalid_0's binary_logloss: 0.698886\n",
      "[4]\tvalid_0's binary_logloss: 0.701102\n",
      "[5]\tvalid_0's binary_logloss: 0.696639\n",
      "[6]\tvalid_0's binary_logloss: 0.692425\n",
      "[7]\tvalid_0's binary_logloss: 0.688445\n",
      "[8]\tvalid_0's binary_logloss: 0.684687\n",
      "[9]\tvalid_0's binary_logloss: 0.687094\n",
      "[10]\tvalid_0's binary_logloss: 0.683585\n",
      "[11]\tvalid_0's binary_logloss: 0.680266\n",
      "[12]\tvalid_0's binary_logloss: 0.677129\n",
      "[13]\tvalid_0's binary_logloss: 0.674161\n",
      "[14]\tvalid_0's binary_logloss: 0.671744\n",
      "[15]\tvalid_0's binary_logloss: 0.674354\n",
      "[16]\tvalid_0's binary_logloss: 0.674805\n",
      "[17]\tvalid_0's binary_logloss: 0.672712\n",
      "[18]\tvalid_0's binary_logloss: 0.675541\n",
      "[19]\tvalid_0's binary_logloss: 0.672926\n",
      "[20]\tvalid_0's binary_logloss: 0.671062\n",
      "[21]\tvalid_0's binary_logloss: 0.668585\n",
      "[22]\tvalid_0's binary_logloss: 0.665586\n",
      "[23]\tvalid_0's binary_logloss: 0.666454\n",
      "[24]\tvalid_0's binary_logloss: 0.667372\n",
      "[25]\tvalid_0's binary_logloss: 0.664726\n",
      "[26]\tvalid_0's binary_logloss: 0.666295\n",
      "[27]\tvalid_0's binary_logloss: 0.664524\n",
      "[28]\tvalid_0's binary_logloss: 0.662405\n",
      "[29]\tvalid_0's binary_logloss: 0.661523\n",
      "[30]\tvalid_0's binary_logloss: 0.660656\n",
      "[31]\tvalid_0's binary_logloss: 0.659858\n",
      "[32]\tvalid_0's binary_logloss: 0.663618\n",
      "[33]\tvalid_0's binary_logloss: 0.661623\n",
      "[34]\tvalid_0's binary_logloss: 0.663608\n",
      "[35]\tvalid_0's binary_logloss: 0.662924\n",
      "[36]\tvalid_0's binary_logloss: 0.661005\n",
      "[37]\tvalid_0's binary_logloss: 0.665511\n",
      "[38]\tvalid_0's binary_logloss: 0.663701\n",
      "[39]\tvalid_0's binary_logloss: 0.665733\n",
      "[40]\tvalid_0's binary_logloss: 0.664018\n",
      "[41]\tvalid_0's binary_logloss: 0.662164\n",
      "[42]\tvalid_0's binary_logloss: 0.660544\n",
      "[43]\tvalid_0's binary_logloss: 0.665554\n",
      "[44]\tvalid_0's binary_logloss: 0.662644\n",
      "[45]\tvalid_0's binary_logloss: 0.661568\n",
      "[46]\tvalid_0's binary_logloss: 0.659596\n",
      "[47]\tvalid_0's binary_logloss: 0.658502\n",
      "[48]\tvalid_0's binary_logloss: 0.656628\n",
      "[49]\tvalid_0's binary_logloss: 0.655362\n",
      "[50]\tvalid_0's binary_logloss: 0.653603\n",
      "[51]\tvalid_0's binary_logloss: 0.650111\n",
      "[52]\tvalid_0's binary_logloss: 0.648299\n",
      "[53]\tvalid_0's binary_logloss: 0.646676\n",
      "[54]\tvalid_0's binary_logloss: 0.648875\n",
      "[55]\tvalid_0's binary_logloss: 0.645658\n",
      "[56]\tvalid_0's binary_logloss: 0.649842\n",
      "[57]\tvalid_0's binary_logloss: 0.647427\n",
      "[58]\tvalid_0's binary_logloss: 0.644866\n",
      "[59]\tvalid_0's binary_logloss: 0.642435\n",
      "[60]\tvalid_0's binary_logloss: 0.63949\n",
      "[61]\tvalid_0's binary_logloss: 0.637207\n",
      "[62]\tvalid_0's binary_logloss: 0.635878\n",
      "[63]\tvalid_0's binary_logloss: 0.633741\n",
      "[64]\tvalid_0's binary_logloss: 0.631032\n",
      "[65]\tvalid_0's binary_logloss: 0.628784\n",
      "[66]\tvalid_0's binary_logloss: 0.626215\n",
      "[67]\tvalid_0's binary_logloss: 0.624346\n",
      "[68]\tvalid_0's binary_logloss: 0.623388\n",
      "[69]\tvalid_0's binary_logloss: 0.622316\n",
      "[70]\tvalid_0's binary_logloss: 0.621601\n",
      "[71]\tvalid_0's binary_logloss: 0.621399\n",
      "[72]\tvalid_0's binary_logloss: 0.619077\n",
      "[73]\tvalid_0's binary_logloss: 0.618104\n",
      "[74]\tvalid_0's binary_logloss: 0.617554\n",
      "[75]\tvalid_0's binary_logloss: 0.616883\n",
      "[76]\tvalid_0's binary_logloss: 0.615971\n",
      "[77]\tvalid_0's binary_logloss: 0.613517\n",
      "[78]\tvalid_0's binary_logloss: 0.615238\n",
      "[79]\tvalid_0's binary_logloss: 0.6144\n",
      "[80]\tvalid_0's binary_logloss: 0.612474\n",
      "[81]\tvalid_0's binary_logloss: 0.611774\n",
      "[82]\tvalid_0's binary_logloss: 0.608373\n",
      "[83]\tvalid_0's binary_logloss: 0.610263\n",
      "[84]\tvalid_0's binary_logloss: 0.609531\n",
      "[85]\tvalid_0's binary_logloss: 0.606618\n",
      "[86]\tvalid_0's binary_logloss: 0.606541\n",
      "[87]\tvalid_0's binary_logloss: 0.604903\n",
      "[88]\tvalid_0's binary_logloss: 0.6022\n",
      "[89]\tvalid_0's binary_logloss: 0.601561\n",
      "[90]\tvalid_0's binary_logloss: 0.598974\n",
      "[91]\tvalid_0's binary_logloss: 0.599738\n",
      "[92]\tvalid_0's binary_logloss: 0.601905\n",
      "[93]\tvalid_0's binary_logloss: 0.601309\n",
      "[94]\tvalid_0's binary_logloss: 0.602039\n",
      "[95]\tvalid_0's binary_logloss: 0.600513\n",
      "[96]\tvalid_0's binary_logloss: 0.601448\n",
      "[97]\tvalid_0's binary_logloss: 0.600891\n",
      "[98]\tvalid_0's binary_logloss: 0.603581\n",
      "[99]\tvalid_0's binary_logloss: 0.603815\n",
      "[100]\tvalid_0's binary_logloss: 0.603265\n"
     ]
    },
    {
     "name": "stderr",
     "output_type": "stream",
     "text": [
      "C:\\Users\\shsy1\\anaconda3\\lib\\site-packages\\lightgbm\\sklearn.py:726: UserWarning: 'early_stopping_rounds' argument is deprecated and will be removed in a future release of LightGBM. Pass 'early_stopping()' callback via 'callbacks' argument instead.\n",
      "  _log_warning(\"'early_stopping_rounds' argument is deprecated and will be removed in a future release of LightGBM. \"\n"
     ]
    },
    {
     "data": {
      "text/plain": [
       "'\\n srcTPS , srcGyroValue ,  srcEngineLoad , srcAPS , srcRPM, srcMAF, srcSpeed \\n 순으로 importance를 보입니다.\\n'"
      ]
     },
     "execution_count": 12,
     "metadata": {},
     "output_type": "execute_result"
    }
   ],
   "source": [
    "'''모델 '''\n",
    "# 객체 생성\n",
    "model = lightgbm.LGBMClassifier(boosting_type='gbdt' \n",
    "                               ,num_leaves = 7\n",
    "                               ,max_depth= 3\n",
    "                                \n",
    "                               ,learning_rate=0.028\n",
    "                                \n",
    "                               ,n_estimators=100\n",
    "                               ,objective = None    \n",
    "                               )\n",
    "# , eval_metric='logloss'\n",
    "lgb_model = model.fit(trnx, trny, early_stopping_rounds=100 ,eval_set=[(valx, valy)])\n",
    "\n",
    "# 예측하기\n",
    "y_pred = lgb_model.predict(tstx)\n",
    "y_pred_probs = lgb_model.predict_proba(tstx)[:,1]\n",
    "\n",
    "\n",
    "\n",
    "'''\n",
    " srcTPS , srcGyroValue ,  srcEngineLoad , srcAPS , srcRPM, srcMAF, srcSpeed \n",
    " 순으로 importance를 보입니다.\n",
    "'''\n"
   ]
  },
  {
   "cell_type": "code",
   "execution_count": 13,
   "id": "83d60b96",
   "metadata": {},
   "outputs": [
    {
     "data": {
      "text/html": [
       "<div>\n",
       "<style scoped>\n",
       "    .dataframe tbody tr th:only-of-type {\n",
       "        vertical-align: middle;\n",
       "    }\n",
       "\n",
       "    .dataframe tbody tr th {\n",
       "        vertical-align: top;\n",
       "    }\n",
       "\n",
       "    .dataframe thead th {\n",
       "        text-align: right;\n",
       "    }\n",
       "</style>\n",
       "<table border=\"1\" class=\"dataframe\">\n",
       "  <thead>\n",
       "    <tr style=\"text-align: right;\">\n",
       "      <th></th>\n",
       "      <th>index</th>\n",
       "      <th>importance</th>\n",
       "    </tr>\n",
       "  </thead>\n",
       "  <tbody>\n",
       "    <tr>\n",
       "      <th>0</th>\n",
       "      <td>srcAPS</td>\n",
       "      <td>196</td>\n",
       "    </tr>\n",
       "    <tr>\n",
       "      <th>1</th>\n",
       "      <td>srcGyroValue</td>\n",
       "      <td>89</td>\n",
       "    </tr>\n",
       "    <tr>\n",
       "      <th>2</th>\n",
       "      <td>srcTPS</td>\n",
       "      <td>83</td>\n",
       "    </tr>\n",
       "    <tr>\n",
       "      <th>3</th>\n",
       "      <td>srcEngineLoad</td>\n",
       "      <td>53</td>\n",
       "    </tr>\n",
       "    <tr>\n",
       "      <th>4</th>\n",
       "      <td>srcMAF</td>\n",
       "      <td>37</td>\n",
       "    </tr>\n",
       "    <tr>\n",
       "      <th>5</th>\n",
       "      <td>srcRPM</td>\n",
       "      <td>32</td>\n",
       "    </tr>\n",
       "    <tr>\n",
       "      <th>6</th>\n",
       "      <td>srcSpeed</td>\n",
       "      <td>3</td>\n",
       "    </tr>\n",
       "  </tbody>\n",
       "</table>\n",
       "</div>"
      ],
      "text/plain": [
       "           index  importance\n",
       "0         srcAPS         196\n",
       "1   srcGyroValue          89\n",
       "2         srcTPS          83\n",
       "3  srcEngineLoad          53\n",
       "4         srcMAF          37\n",
       "5         srcRPM          32\n",
       "6       srcSpeed           3"
      ]
     },
     "execution_count": 13,
     "metadata": {},
     "output_type": "execute_result"
    }
   ],
   "source": [
    "trnx_pd = pd.DataFrame(x_data)\n",
    "fi_df = pd.DataFrame(lgb_model.feature_importances_, index = trnx_pd.columns , columns = ['importance']).sort_values(by= 'importance' , ascending =False)\n",
    "fi_df = fi_df[fi_df.importance >0]\n",
    "fi_df = fi_df.reset_index()\n",
    "fi_df"
   ]
  },
  {
   "cell_type": "code",
   "execution_count": 14,
   "id": "46a54a90",
   "metadata": {},
   "outputs": [
    {
     "data": {
      "image/png": "[encoded data removed]",
      "text/plain": [
       "<Figure size 720x864 with 1 Axes>"
      ]
     },
     "metadata": {
      "needs_background": "light"
     },
     "output_type": "display_data"
    }
   ],
   "source": [
    "# 특성 중요도 시각화\n",
    "fig , ax = plt.subplots()\n",
    "ax = sns.barplot(y = fi_df['index'] , x = fi_df['importance'])\n",
    "fig.set_size_inches(10,12)"
   ]
  },
  {
   "cell_type": "code",
   "execution_count": 15,
   "id": "1429cb73",
   "metadata": {},
   "outputs": [
    {
     "data": {
      "text/html": [
       "<div>\n",
       "<style scoped>\n",
       "    .dataframe tbody tr th:only-of-type {\n",
       "        vertical-align: middle;\n",
       "    }\n",
       "\n",
       "    .dataframe tbody tr th {\n",
       "        vertical-align: top;\n",
       "    }\n",
       "\n",
       "    .dataframe thead th {\n",
       "        text-align: right;\n",
       "    }\n",
       "</style>\n",
       "<table border=\"1\" class=\"dataframe\">\n",
       "  <thead>\n",
       "    <tr style=\"text-align: right;\">\n",
       "      <th></th>\n",
       "      <th>Unnamed: 0</th>\n",
       "      <th>srcSpeed</th>\n",
       "      <th>srcAPS</th>\n",
       "      <th>srcGyroValue</th>\n",
       "      <th>srcRPM</th>\n",
       "      <th>srcTPS</th>\n",
       "      <th>srcMAF</th>\n",
       "      <th>srcEngineLoad</th>\n",
       "      <th>Diagnose</th>\n",
       "    </tr>\n",
       "  </thead>\n",
       "  <tbody>\n",
       "    <tr>\n",
       "      <th>458</th>\n",
       "      <td>462</td>\n",
       "      <td>0.0</td>\n",
       "      <td>0.0</td>\n",
       "      <td>-1.340918</td>\n",
       "      <td>0.0</td>\n",
       "      <td>13.594771</td>\n",
       "      <td>0.0</td>\n",
       "      <td>0.0</td>\n",
       "      <td>P0171</td>\n",
       "    </tr>\n",
       "    <tr>\n",
       "      <th>202</th>\n",
       "      <td>204</td>\n",
       "      <td>0.0</td>\n",
       "      <td>0.0</td>\n",
       "      <td>0.476363</td>\n",
       "      <td>0.0</td>\n",
       "      <td>11.428571</td>\n",
       "      <td>0.0</td>\n",
       "      <td>0.0</td>\n",
       "      <td>P0171</td>\n",
       "    </tr>\n",
       "  </tbody>\n",
       "</table>\n",
       "</div>"
      ],
      "text/plain": [
       "     Unnamed: 0  srcSpeed  srcAPS  srcGyroValue  srcRPM     srcTPS  srcMAF  \\\n",
       "458         462       0.0     0.0     -1.340918     0.0  13.594771     0.0   \n",
       "202         204       0.0     0.0      0.476363     0.0  11.428571     0.0   \n",
       "\n",
       "     srcEngineLoad Diagnose  \n",
       "458            0.0    P0171  \n",
       "202            0.0    P0171  "
      ]
     },
     "execution_count": 15,
     "metadata": {},
     "output_type": "execute_result"
    }
   ],
   "source": [
    "src.head(2)"
   ]
  },
  {
   "cell_type": "markdown",
   "id": "e146917b",
   "metadata": {},
   "source": [
    "# Evaluation"
   ]
  },
  {
   "cell_type": "code",
   "execution_count": 16,
   "id": "3eab42c1",
   "metadata": {},
   "outputs": [],
   "source": [
    "def get_model_train_eval(model, ftr_train=None, ftr_test=None, tgt_train=None, tgt_test=None):\n",
    "    model.fit(ftr_train, tgt_train)\n",
    "    pred = model.predict(ftr_test)\n",
    "    pred_proba = model.predict_proba(ftr_test)[:1]\n",
    "    get_clf_eval(tgt_test, pred, pred_proba)\n",
    "\n"
   ]
  },
  {
   "cell_type": "code",
   "execution_count": 17,
   "id": "071ae999",
   "metadata": {},
   "outputs": [],
   "source": [
    "def get_clf_eval(y_test, y_pred=None, pred_proba=None):\n",
    "    confusion = metrics.confusion_matrix(y_test, y_pred)\n",
    "    accuracy = metrics.accuracy_score(y_test, y_pred)\n",
    "    precision = metrics.precision_score(y_test, y_pred)\n",
    "    recall = metrics.recall_score(y_test, y_pred)\n",
    "    F1 = metrics.f1_score(y_test, y_pred)\n",
    "    AUC = metrics.roc_auc_score(y_test, y_pred, pred_proba)\n",
    "\n",
    "    print('confusion_matrix:\\n', confusion)\n",
    "    print('\\nAccuracy: {:.4f}'.format(accuracy))\n",
    "    print('Precision: {:.4f}'.format(precision))\n",
    "    print('Recall: {:.4f}'.format(recall))\n",
    "    print('F1: {:.4f}'.format(F1))\n",
    "    print('AUC: {:.4f}'.format(AUC))"
   ]
  },
  {
   "cell_type": "code",
   "execution_count": 18,
   "id": "3fe8dd8f",
   "metadata": {},
   "outputs": [
    {
     "name": "stdout",
     "output_type": "stream",
     "text": [
      "confusion_matrix:\n",
      " [[115  21]\n",
      " [ 21 120]]\n",
      "\n",
      "Accuracy: 0.8484\n",
      "Precision: 0.8511\n",
      "Recall: 0.8511\n",
      "F1: 0.8511\n",
      "AUC: 0.8483\n"
     ]
    },
    {
     "name": "stderr",
     "output_type": "stream",
     "text": [
      "C:\\Users\\shsy1\\anaconda3\\lib\\site-packages\\sklearn\\utils\\validation.py:70: FutureWarning: Pass average=None as keyword args. From version 1.0 (renaming of 0.25) passing these as positional arguments will result in an error\n",
      "  warnings.warn(f\"Pass {args_msg} as keyword args. From version \"\n"
     ]
    }
   ],
   "source": [
    "get_clf_eval(tsty , y_pred)"
   ]
  },
  {
   "cell_type": "code",
   "execution_count": 23,
   "id": "33c72c20",
   "metadata": {},
   "outputs": [],
   "source": [
    "# AUC 면적 구하기\n",
    "from sklearn.metrics import roc_auc_score\n",
    "from sklearn.linear_model import LogisticRegression\n",
    "\n",
    "lr_model = lgb_model\n",
    "lr_model.fit(trnx , trny)\n",
    "prediction = lr_model.predict(tstx)"
   ]
  },
  {
   "cell_type": "code",
   "execution_count": 24,
   "id": "e4f1cc27",
   "metadata": {
    "scrolled": true
   },
   "outputs": [
    {
     "name": "stdout",
     "output_type": "stream",
     "text": [
      "AUC value: 0.8446495619524406\n"
     ]
    },
    {
     "data": {
      "image/png": "[encoded data removed]",
      "text/plain": [
       "<Figure size 1080x360 with 1 Axes>"
      ]
     },
     "metadata": {
      "needs_background": "light"
     },
     "output_type": "display_data"
    }
   ],
   "source": [
    "# ROC Curve\n",
    "fprs , tprs , thresholds = roc_curve(tsty , y_pred)\n",
    "plt.figure(figsize = (15,5))\n",
    "plt.plot([0,1],[0,1] , label = 'STR')\n",
    "plt.plot(fprs , tprs , label = 'ROC')\n",
    "plt.xlabel('False Positive Rate')\n",
    "plt.ylabel('True Positive Rate')\n",
    "plt.legend()\n",
    "plt.grid()\n",
    "plt.show\n",
    "\n",
    "print('AUC value: {}'.format(roc_auc_score(tsty, prediction)))"
   ]
  },
  {
   "cell_type": "code",
   "execution_count": 25,
   "id": "39bd4dd9",
   "metadata": {},
   "outputs": [
    {
     "data": {
      "text/html": [
       "<div>\n",
       "<style scoped>\n",
       "    .dataframe tbody tr th:only-of-type {\n",
       "        vertical-align: middle;\n",
       "    }\n",
       "\n",
       "    .dataframe tbody tr th {\n",
       "        vertical-align: top;\n",
       "    }\n",
       "\n",
       "    .dataframe thead th {\n",
       "        text-align: right;\n",
       "    }\n",
       "</style>\n",
       "<table border=\"1\" class=\"dataframe\">\n",
       "  <thead>\n",
       "    <tr style=\"text-align: right;\">\n",
       "      <th></th>\n",
       "      <th>predict</th>\n",
       "    </tr>\n",
       "  </thead>\n",
       "  <tbody>\n",
       "    <tr>\n",
       "      <th>0</th>\n",
       "      <td>NULL</td>\n",
       "    </tr>\n",
       "    <tr>\n",
       "      <th>1</th>\n",
       "      <td>P0171</td>\n",
       "    </tr>\n",
       "    <tr>\n",
       "      <th>2</th>\n",
       "      <td>NULL</td>\n",
       "    </tr>\n",
       "    <tr>\n",
       "      <th>3</th>\n",
       "      <td>NULL</td>\n",
       "    </tr>\n",
       "    <tr>\n",
       "      <th>4</th>\n",
       "      <td>NULL</td>\n",
       "    </tr>\n",
       "    <tr>\n",
       "      <th>...</th>\n",
       "      <td>...</td>\n",
       "    </tr>\n",
       "    <tr>\n",
       "      <th>272</th>\n",
       "      <td>NULL</td>\n",
       "    </tr>\n",
       "    <tr>\n",
       "      <th>273</th>\n",
       "      <td>P0171</td>\n",
       "    </tr>\n",
       "    <tr>\n",
       "      <th>274</th>\n",
       "      <td>NULL</td>\n",
       "    </tr>\n",
       "    <tr>\n",
       "      <th>275</th>\n",
       "      <td>NULL</td>\n",
       "    </tr>\n",
       "    <tr>\n",
       "      <th>276</th>\n",
       "      <td>NULL</td>\n",
       "    </tr>\n",
       "  </tbody>\n",
       "</table>\n",
       "<p>277 rows × 1 columns</p>\n",
       "</div>"
      ],
      "text/plain": [
       "    predict\n",
       "0      NULL\n",
       "1     P0171\n",
       "2      NULL\n",
       "3      NULL\n",
       "4      NULL\n",
       "..      ...\n",
       "272    NULL\n",
       "273   P0171\n",
       "274    NULL\n",
       "275    NULL\n",
       "276    NULL\n",
       "\n",
       "[277 rows x 1 columns]"
      ]
     },
     "execution_count": 25,
     "metadata": {},
     "output_type": "execute_result"
    }
   ],
   "source": [
    "\n",
    "y_pre_df = pd.DataFrame(y_pred)\n",
    "y_pre_df = y_pre_df.replace(0 , 'NULL')\n",
    "\n",
    "y_pre_df = y_pre_df.replace(1 , ' P0171')\n",
    "y_pre_df = y_pre_df.rename(columns={0:'predict' })\n",
    "y_pre_df"
   ]
  },
  {
   "cell_type": "code",
   "execution_count": 26,
   "id": "387b5b4c",
   "metadata": {},
   "outputs": [
    {
     "data": {
      "text/html": [
       "<div>\n",
       "<style scoped>\n",
       "    .dataframe tbody tr th:only-of-type {\n",
       "        vertical-align: middle;\n",
       "    }\n",
       "\n",
       "    .dataframe tbody tr th {\n",
       "        vertical-align: top;\n",
       "    }\n",
       "\n",
       "    .dataframe thead th {\n",
       "        text-align: right;\n",
       "    }\n",
       "</style>\n",
       "<table border=\"1\" class=\"dataframe\">\n",
       "  <thead>\n",
       "    <tr style=\"text-align: right;\">\n",
       "      <th></th>\n",
       "      <th>Target</th>\n",
       "    </tr>\n",
       "  </thead>\n",
       "  <tbody>\n",
       "    <tr>\n",
       "      <th>0</th>\n",
       "      <td>NULL</td>\n",
       "    </tr>\n",
       "    <tr>\n",
       "      <th>1</th>\n",
       "      <td>NULL</td>\n",
       "    </tr>\n",
       "    <tr>\n",
       "      <th>2</th>\n",
       "      <td>NULL</td>\n",
       "    </tr>\n",
       "    <tr>\n",
       "      <th>3</th>\n",
       "      <td>P0171</td>\n",
       "    </tr>\n",
       "    <tr>\n",
       "      <th>4</th>\n",
       "      <td>P0171</td>\n",
       "    </tr>\n",
       "    <tr>\n",
       "      <th>...</th>\n",
       "      <td>...</td>\n",
       "    </tr>\n",
       "    <tr>\n",
       "      <th>272</th>\n",
       "      <td>NULL</td>\n",
       "    </tr>\n",
       "    <tr>\n",
       "      <th>273</th>\n",
       "      <td>P0171</td>\n",
       "    </tr>\n",
       "    <tr>\n",
       "      <th>274</th>\n",
       "      <td>NULL</td>\n",
       "    </tr>\n",
       "    <tr>\n",
       "      <th>275</th>\n",
       "      <td>NULL</td>\n",
       "    </tr>\n",
       "    <tr>\n",
       "      <th>276</th>\n",
       "      <td>NULL</td>\n",
       "    </tr>\n",
       "  </tbody>\n",
       "</table>\n",
       "<p>277 rows × 1 columns</p>\n",
       "</div>"
      ],
      "text/plain": [
       "     Target\n",
       "0      NULL\n",
       "1      NULL\n",
       "2      NULL\n",
       "3     P0171\n",
       "4     P0171\n",
       "..      ...\n",
       "272    NULL\n",
       "273   P0171\n",
       "274    NULL\n",
       "275    NULL\n",
       "276    NULL\n",
       "\n",
       "[277 rows x 1 columns]"
      ]
     },
     "execution_count": 26,
     "metadata": {},
     "output_type": "execute_result"
    }
   ],
   "source": [
    "\n",
    "y_df = pd.DataFrame(tsty)\n",
    "y_df = y_df.replace(0 , 'NULL')\n",
    "\n",
    "y_df = y_df.replace(1 , ' P0171')\n",
    "y_df = y_df.rename(columns={0:'Target' })\n",
    "y_df"
   ]
  },
  {
   "cell_type": "raw",
   "id": "ec1db30e",
   "metadata": {},
   "source": []
  },
  {
   "cell_type": "code",
   "execution_count": null,
   "id": "cf9d0a32",
   "metadata": {},
   "outputs": [],
   "source": []
  }
 ],
 "metadata": {
  "kernelspec": {
   "display_name": "Python 3",
   "language": "python",
   "name": "python3"
  },
  "language_info": {
   "codemirror_mode": {
    "name": "ipython",
    "version": 3
   },
   "file_extension": ".py",
   "mimetype": "text/x-python",
   "name": "python",
   "nbconvert_exporter": "python",
   "pygments_lexer": "ipython3",
   "version": "3.8.8"
  }
 },
 "nbformat": 4,
 "nbformat_minor": 5
}
